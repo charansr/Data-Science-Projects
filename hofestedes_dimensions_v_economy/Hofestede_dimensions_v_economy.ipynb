{
 "cells": [
  {
   "cell_type": "markdown",
   "id": "4775f695",
   "metadata": {},
   "source": [
    "# How Hofestede's dimensions correlate to the economy"
   ]
  },
  {
   "cell_type": "code",
   "execution_count": 24,
   "id": "13bc54e9",
   "metadata": {},
   "outputs": [],
   "source": [
    "import pandas as pd\n",
    "import numpy as np\n",
    "import matplotlib.pyplot as plt\n",
    "import mpld3\n",
    "import plotly.express as px\n",
    "import chart_studio.plotly as py\n",
    "import chart_studio"
   ]
  },
  {
   "cell_type": "code",
   "execution_count": 7,
   "id": "28484b8a",
   "metadata": {},
   "outputs": [],
   "source": [
    "econdata=pd.read_csv(\"/Users/charan/Documents/website/hofestedes_dimensions_v_economy/gdp_oecd.csv\")\n",
    "hofdata=pd.read_csv(\"/Users/charan/Documents/website/hofestedes_dimensions_v_economy/6-dimensions-for-website-2015-08-16 (1).csv\",sep=\";\")\n",
    "codetoname=pd.read_csv(\"/Users/charan/Documents/website/hofestedes_dimensions_v_economy/countrycode_to_name_key - Sheet1.csv\")\n"
   ]
  },
  {
   "cell_type": "code",
   "execution_count": 8,
   "id": "a09c3f6f",
   "metadata": {},
   "outputs": [
    {
     "data": {
      "text/html": [
       "<div>\n",
       "<style scoped>\n",
       "    .dataframe tbody tr th:only-of-type {\n",
       "        vertical-align: middle;\n",
       "    }\n",
       "\n",
       "    .dataframe tbody tr th {\n",
       "        vertical-align: top;\n",
       "    }\n",
       "\n",
       "    .dataframe thead th {\n",
       "        text-align: right;\n",
       "    }\n",
       "</style>\n",
       "<table border=\"1\" class=\"dataframe\">\n",
       "  <thead>\n",
       "    <tr style=\"text-align: right;\">\n",
       "      <th></th>\n",
       "      <th>LOCATION</th>\n",
       "      <th>INDICATOR</th>\n",
       "      <th>SUBJECT</th>\n",
       "      <th>MEASURE</th>\n",
       "      <th>FREQUENCY</th>\n",
       "      <th>TIME</th>\n",
       "      <th>Value</th>\n",
       "      <th>Flag Codes</th>\n",
       "    </tr>\n",
       "  </thead>\n",
       "  <tbody>\n",
       "    <tr>\n",
       "      <th>0</th>\n",
       "      <td>AUS</td>\n",
       "      <td>GDP</td>\n",
       "      <td>TOT</td>\n",
       "      <td>MLN_USD</td>\n",
       "      <td>A</td>\n",
       "      <td>1960</td>\n",
       "      <td>25073.260</td>\n",
       "      <td>NaN</td>\n",
       "    </tr>\n",
       "    <tr>\n",
       "      <th>1</th>\n",
       "      <td>AUS</td>\n",
       "      <td>GDP</td>\n",
       "      <td>TOT</td>\n",
       "      <td>MLN_USD</td>\n",
       "      <td>A</td>\n",
       "      <td>1961</td>\n",
       "      <td>25364.881</td>\n",
       "      <td>NaN</td>\n",
       "    </tr>\n",
       "    <tr>\n",
       "      <th>2</th>\n",
       "      <td>AUS</td>\n",
       "      <td>GDP</td>\n",
       "      <td>TOT</td>\n",
       "      <td>MLN_USD</td>\n",
       "      <td>A</td>\n",
       "      <td>1962</td>\n",
       "      <td>27955.357</td>\n",
       "      <td>NaN</td>\n",
       "    </tr>\n",
       "    <tr>\n",
       "      <th>3</th>\n",
       "      <td>AUS</td>\n",
       "      <td>GDP</td>\n",
       "      <td>TOT</td>\n",
       "      <td>MLN_USD</td>\n",
       "      <td>A</td>\n",
       "      <td>1963</td>\n",
       "      <td>30432.979</td>\n",
       "      <td>NaN</td>\n",
       "    </tr>\n",
       "    <tr>\n",
       "      <th>4</th>\n",
       "      <td>AUS</td>\n",
       "      <td>GDP</td>\n",
       "      <td>TOT</td>\n",
       "      <td>MLN_USD</td>\n",
       "      <td>A</td>\n",
       "      <td>1964</td>\n",
       "      <td>32745.289</td>\n",
       "      <td>NaN</td>\n",
       "    </tr>\n",
       "  </tbody>\n",
       "</table>\n",
       "</div>"
      ],
      "text/plain": [
       "  LOCATION INDICATOR SUBJECT  MEASURE FREQUENCY  TIME      Value Flag Codes\n",
       "0      AUS       GDP     TOT  MLN_USD         A  1960  25073.260        NaN\n",
       "1      AUS       GDP     TOT  MLN_USD         A  1961  25364.881        NaN\n",
       "2      AUS       GDP     TOT  MLN_USD         A  1962  27955.357        NaN\n",
       "3      AUS       GDP     TOT  MLN_USD         A  1963  30432.979        NaN\n",
       "4      AUS       GDP     TOT  MLN_USD         A  1964  32745.289        NaN"
      ]
     },
     "execution_count": 8,
     "metadata": {},
     "output_type": "execute_result"
    }
   ],
   "source": [
    "econdata.head()"
   ]
  },
  {
   "cell_type": "code",
   "execution_count": 9,
   "id": "b674d88d",
   "metadata": {},
   "outputs": [
    {
     "data": {
      "text/html": [
       "<div>\n",
       "<style scoped>\n",
       "    .dataframe tbody tr th:only-of-type {\n",
       "        vertical-align: middle;\n",
       "    }\n",
       "\n",
       "    .dataframe tbody tr th {\n",
       "        vertical-align: top;\n",
       "    }\n",
       "\n",
       "    .dataframe thead th {\n",
       "        text-align: right;\n",
       "    }\n",
       "</style>\n",
       "<table border=\"1\" class=\"dataframe\">\n",
       "  <thead>\n",
       "    <tr style=\"text-align: right;\">\n",
       "      <th></th>\n",
       "      <th>ctr</th>\n",
       "      <th>country</th>\n",
       "      <th>pdi</th>\n",
       "      <th>idv</th>\n",
       "      <th>mas</th>\n",
       "      <th>uai</th>\n",
       "      <th>ltowvs</th>\n",
       "      <th>ivr</th>\n",
       "    </tr>\n",
       "  </thead>\n",
       "  <tbody>\n",
       "    <tr>\n",
       "      <th>0</th>\n",
       "      <td>AFE</td>\n",
       "      <td>Africa East</td>\n",
       "      <td>64</td>\n",
       "      <td>27</td>\n",
       "      <td>41</td>\n",
       "      <td>52</td>\n",
       "      <td>32</td>\n",
       "      <td>40</td>\n",
       "    </tr>\n",
       "    <tr>\n",
       "      <th>1</th>\n",
       "      <td>AFW</td>\n",
       "      <td>Africa West</td>\n",
       "      <td>77</td>\n",
       "      <td>20</td>\n",
       "      <td>46</td>\n",
       "      <td>54</td>\n",
       "      <td>9</td>\n",
       "      <td>78</td>\n",
       "    </tr>\n",
       "    <tr>\n",
       "      <th>2</th>\n",
       "      <td>ALB</td>\n",
       "      <td>Albania</td>\n",
       "      <td>#NULL!</td>\n",
       "      <td>#NULL!</td>\n",
       "      <td>#NULL!</td>\n",
       "      <td>#NULL!</td>\n",
       "      <td>61</td>\n",
       "      <td>15</td>\n",
       "    </tr>\n",
       "    <tr>\n",
       "      <th>3</th>\n",
       "      <td>ALG</td>\n",
       "      <td>Algeria</td>\n",
       "      <td>#NULL!</td>\n",
       "      <td>#NULL!</td>\n",
       "      <td>#NULL!</td>\n",
       "      <td>#NULL!</td>\n",
       "      <td>26</td>\n",
       "      <td>32</td>\n",
       "    </tr>\n",
       "    <tr>\n",
       "      <th>4</th>\n",
       "      <td>AND</td>\n",
       "      <td>Andorra</td>\n",
       "      <td>#NULL!</td>\n",
       "      <td>#NULL!</td>\n",
       "      <td>#NULL!</td>\n",
       "      <td>#NULL!</td>\n",
       "      <td>#NULL!</td>\n",
       "      <td>65</td>\n",
       "    </tr>\n",
       "  </tbody>\n",
       "</table>\n",
       "</div>"
      ],
      "text/plain": [
       "   ctr      country     pdi     idv     mas     uai  ltowvs ivr\n",
       "0  AFE  Africa East      64      27      41      52      32  40\n",
       "1  AFW  Africa West      77      20      46      54       9  78\n",
       "2  ALB      Albania  #NULL!  #NULL!  #NULL!  #NULL!      61  15\n",
       "3  ALG      Algeria  #NULL!  #NULL!  #NULL!  #NULL!      26  32\n",
       "4  AND      Andorra  #NULL!  #NULL!  #NULL!  #NULL!  #NULL!  65"
      ]
     },
     "execution_count": 9,
     "metadata": {},
     "output_type": "execute_result"
    }
   ],
   "source": [
    "hofdata.head()"
   ]
  },
  {
   "cell_type": "code",
   "execution_count": 10,
   "id": "9197dbae",
   "metadata": {},
   "outputs": [
    {
     "data": {
      "text/plain": [
       "(111, 8)"
      ]
     },
     "execution_count": 10,
     "metadata": {},
     "output_type": "execute_result"
    }
   ],
   "source": [
    "hofdata.shape"
   ]
  },
  {
   "cell_type": "code",
   "execution_count": 11,
   "id": "b5676fa4",
   "metadata": {},
   "outputs": [
    {
     "data": {
      "text/html": [
       "<div>\n",
       "<style scoped>\n",
       "    .dataframe tbody tr th:only-of-type {\n",
       "        vertical-align: middle;\n",
       "    }\n",
       "\n",
       "    .dataframe tbody tr th {\n",
       "        vertical-align: top;\n",
       "    }\n",
       "\n",
       "    .dataframe thead th {\n",
       "        text-align: right;\n",
       "    }\n",
       "</style>\n",
       "<table border=\"1\" class=\"dataframe\">\n",
       "  <thead>\n",
       "    <tr style=\"text-align: right;\">\n",
       "      <th></th>\n",
       "      <th>name</th>\n",
       "      <th>alpha-2</th>\n",
       "      <th>alpha-3</th>\n",
       "      <th>country-code</th>\n",
       "      <th>iso_3166-2</th>\n",
       "      <th>region</th>\n",
       "      <th>sub-region</th>\n",
       "      <th>intermediate-region</th>\n",
       "      <th>region-code</th>\n",
       "      <th>sub-region-code</th>\n",
       "      <th>intermediate-region-code</th>\n",
       "    </tr>\n",
       "  </thead>\n",
       "  <tbody>\n",
       "    <tr>\n",
       "      <th>0</th>\n",
       "      <td>Afghanistan</td>\n",
       "      <td>AF</td>\n",
       "      <td>AFG</td>\n",
       "      <td>4</td>\n",
       "      <td>ISO 3166-2:AF</td>\n",
       "      <td>Asia</td>\n",
       "      <td>Southern Asia</td>\n",
       "      <td>NaN</td>\n",
       "      <td>142.0</td>\n",
       "      <td>34.0</td>\n",
       "      <td>NaN</td>\n",
       "    </tr>\n",
       "    <tr>\n",
       "      <th>1</th>\n",
       "      <td>Åland Islands</td>\n",
       "      <td>AX</td>\n",
       "      <td>ALA</td>\n",
       "      <td>248</td>\n",
       "      <td>ISO 3166-2:AX</td>\n",
       "      <td>Europe</td>\n",
       "      <td>Northern Europe</td>\n",
       "      <td>NaN</td>\n",
       "      <td>150.0</td>\n",
       "      <td>154.0</td>\n",
       "      <td>NaN</td>\n",
       "    </tr>\n",
       "    <tr>\n",
       "      <th>2</th>\n",
       "      <td>Albania</td>\n",
       "      <td>AL</td>\n",
       "      <td>ALB</td>\n",
       "      <td>8</td>\n",
       "      <td>ISO 3166-2:AL</td>\n",
       "      <td>Europe</td>\n",
       "      <td>Southern Europe</td>\n",
       "      <td>NaN</td>\n",
       "      <td>150.0</td>\n",
       "      <td>39.0</td>\n",
       "      <td>NaN</td>\n",
       "    </tr>\n",
       "    <tr>\n",
       "      <th>3</th>\n",
       "      <td>Algeria</td>\n",
       "      <td>DZ</td>\n",
       "      <td>DZA</td>\n",
       "      <td>12</td>\n",
       "      <td>ISO 3166-2:DZ</td>\n",
       "      <td>Africa</td>\n",
       "      <td>Northern Africa</td>\n",
       "      <td>NaN</td>\n",
       "      <td>2.0</td>\n",
       "      <td>15.0</td>\n",
       "      <td>NaN</td>\n",
       "    </tr>\n",
       "    <tr>\n",
       "      <th>4</th>\n",
       "      <td>American Samoa</td>\n",
       "      <td>AS</td>\n",
       "      <td>ASM</td>\n",
       "      <td>16</td>\n",
       "      <td>ISO 3166-2:AS</td>\n",
       "      <td>Oceania</td>\n",
       "      <td>Polynesia</td>\n",
       "      <td>NaN</td>\n",
       "      <td>9.0</td>\n",
       "      <td>61.0</td>\n",
       "      <td>NaN</td>\n",
       "    </tr>\n",
       "  </tbody>\n",
       "</table>\n",
       "</div>"
      ],
      "text/plain": [
       "             name alpha-2 alpha-3  country-code     iso_3166-2   region  \\\n",
       "0     Afghanistan      AF     AFG             4  ISO 3166-2:AF     Asia   \n",
       "1   Åland Islands      AX     ALA           248  ISO 3166-2:AX   Europe   \n",
       "2         Albania      AL     ALB             8  ISO 3166-2:AL   Europe   \n",
       "3         Algeria      DZ     DZA            12  ISO 3166-2:DZ   Africa   \n",
       "4  American Samoa      AS     ASM            16  ISO 3166-2:AS  Oceania   \n",
       "\n",
       "        sub-region intermediate-region  region-code  sub-region-code  \\\n",
       "0    Southern Asia                 NaN        142.0             34.0   \n",
       "1  Northern Europe                 NaN        150.0            154.0   \n",
       "2  Southern Europe                 NaN        150.0             39.0   \n",
       "3  Northern Africa                 NaN          2.0             15.0   \n",
       "4        Polynesia                 NaN          9.0             61.0   \n",
       "\n",
       "   intermediate-region-code  \n",
       "0                       NaN  \n",
       "1                       NaN  \n",
       "2                       NaN  \n",
       "3                       NaN  \n",
       "4                       NaN  "
      ]
     },
     "execution_count": 11,
     "metadata": {},
     "output_type": "execute_result"
    }
   ],
   "source": [
    "codetoname.head()"
   ]
  },
  {
   "cell_type": "code",
   "execution_count": 12,
   "id": "c75b7409",
   "metadata": {},
   "outputs": [
    {
     "data": {
      "text/plain": [
       "(249, 11)"
      ]
     },
     "execution_count": 12,
     "metadata": {},
     "output_type": "execute_result"
    }
   ],
   "source": [
    "codetoname.shape"
   ]
  },
  {
   "cell_type": "code",
   "execution_count": 13,
   "id": "6dff8800",
   "metadata": {},
   "outputs": [],
   "source": [
    "count=0\n",
    "for i in range(hofdata.shape[0]):\n",
    "    a = hofdata[\"country\"].loc[i]\n",
    "    for j in range(codetoname.shape[0]):\n",
    "        b = codetoname[\"name\"].loc[j]\n",
    "        if(a==b):\n",
    "            hofdata[\"ctr\"].loc[i]=codetoname[\"alpha-3\"].loc[j]"
   ]
  },
  {
   "cell_type": "code",
   "execution_count": 14,
   "id": "d6f79376",
   "metadata": {},
   "outputs": [],
   "source": [
    "uecondata=econdata[\"LOCATION\"].unique()\n",
    "target1=[]\n",
    "for i in range(hofdata.shape[0]):\n",
    "    a = hofdata[\"ctr\"].loc[i]\n",
    "    #print(a)\n",
    "    found=False;\n",
    "    for j in range(uecondata.shape[0]):\n",
    "        b=uecondata[j]\n",
    "        #print(b)\n",
    "        if(a==b):\n",
    "            found=True;\n",
    "            break;\n",
    "    if(not found):\n",
    "        target1.append(i)\n",
    "hofdata.drop(labels=target1,inplace=True)"
   ]
  },
  {
   "cell_type": "code",
   "execution_count": 28,
   "id": "07b3135f",
   "metadata": {},
   "outputs": [],
   "source": [
    "username = 'charan_s' # your username\n",
    "api_key = 'dS1pbnnqdE3t3yF2DsUu' # your api key - go to profile > settings > regenerate key\n",
    "chart_studio.tools.set_credentials_file(username=username, api_key=api_key)"
   ]
  },
  {
   "cell_type": "code",
   "execution_count": 33,
   "id": "4a33b424",
   "metadata": {},
   "outputs": [],
   "source": [
    "def graphdimen(dim):\n",
    "    #fig=plt.figure(figsize=(15,6))\n",
    "    #plt.style.use(\"fivethirtyeight\")\n",
    "    #plt.figure(figsize=(15,6));\n",
    "    lochofdata=hofdata.copy()\n",
    "    lochofdata.reset_index(inplace=True)\n",
    "    targets = []\n",
    "    for i in range(lochofdata.shape[0]):\n",
    "        if(lochofdata.iloc[i].loc[dim]==\"#NULL!\"):\n",
    "            targets.append(i)\n",
    "    lochofdata.drop(labels=targets,inplace=True)\n",
    "    #print(lochofdata)\n",
    "    #lochofdata.reset_index(inplace=True)\n",
    "    gdpval=[]\n",
    "    where=[]\n",
    "    for i in range(lochofdata.shape[0]):\n",
    "        #print(lochofdata[\"ctr\"].iloc[i])\n",
    "        curedat = econdata[econdata[\"LOCATION\"].str.contains(lochofdata[\"ctr\"].iloc[i])]\n",
    "        curedat = curedat[curedat[\"MEASURE\"].str.contains(\"USD_CAP\")]\n",
    "        curedat = curedat[curedat[\"TIME\"]==2013]\n",
    "        whereval=curedat[\"LOCATION\"].values[0]\n",
    "        curedat=curedat[\"Value\"]\n",
    "        where.append(whereval)\n",
    "        #print(curedat.values)\n",
    "        gdpval.append(int(curedat))\n",
    "    ans=pd.DataFrame()\n",
    "    #gdpval=gdpval[0].values\n",
    "    lochofdata[dim].astype(int)\n",
    "    x=lochofdata[dim].astype(int)\n",
    "    y=gdpval\n",
    "    print(\"Correlation: \" + str(np.corrcoef(x,y)[0,1]))\n",
    "    kind=\"\"\n",
    "    if(dim==\"idv\"):\n",
    "        kind=\"Individuality Index\"\n",
    "    elif(dim==\"pdi\"):\n",
    "        kind=\"Power Distance Index\"\n",
    "    elif(dim==\"uai\"):\n",
    "        kind=\"Uncertainty Avoidance Index\"\n",
    "    elif(dim==\"mas\"):\n",
    "        kind=\"Masculinity Index\"\n",
    "    elif(dim==\"ltowvs\"):\n",
    "        kind=\"Long Term Orientation Index\"\n",
    "    elif(dim==\"ivr\"):\n",
    "        kind=\"Indulgence versus Restraint\"\n",
    "    ans[kind]=x\n",
    "    ans[\"GDP per Capita in USD\"]=y\n",
    "    ans[\"country\"]=where\n",
    "    fig=px.scatter(ans,x=kind,y=\"GDP per Capita in USD\",hover_data=[\"country\"], trendline=\"ols\",title=kind+\" graph\")\n",
    "    fig.write_html(dim+\".html\")\n",
    "    py.plot(fig, filename = 'testingthingwith'+dim, auto_open=True)\n",
    "    fig.show()"
   ]
  },
  {
   "cell_type": "code",
   "execution_count": 34,
   "id": "561093af",
   "metadata": {},
   "outputs": [
    {
     "name": "stdout",
     "output_type": "stream",
     "text": [
      "Correlation: -0.0013124655696661763\n"
     ]
    },
    {
     "data": {
      "application/vnd.plotly.v1+json": {
       "config": {
        "plotlyServerURL": "https://plotly.com"
       },
       "data": [
        {
         "customdata": [
          [
           "ARG"
          ],
          [
           "AUS"
          ],
          [
           "AUT"
          ],
          [
           "BEL"
          ],
          [
           "BRA"
          ],
          [
           "BGR"
          ],
          [
           "CAN"
          ],
          [
           "CHL"
          ],
          [
           "CHN"
          ],
          [
           "COL"
          ],
          [
           "CRI"
          ],
          [
           "HRV"
          ],
          [
           "CZE"
          ],
          [
           "DNK"
          ],
          [
           "EST"
          ],
          [
           "FIN"
          ],
          [
           "FRA"
          ],
          [
           "DEU"
          ],
          [
           "GBR"
          ],
          [
           "GRC"
          ],
          [
           "HKG"
          ],
          [
           "HUN"
          ],
          [
           "IND"
          ],
          [
           "IDN"
          ],
          [
           "IRL"
          ],
          [
           "ISR"
          ],
          [
           "ITA"
          ],
          [
           "JPN"
          ],
          [
           "KOR"
          ],
          [
           "LVA"
          ],
          [
           "LTU"
          ],
          [
           "LUX"
          ],
          [
           "MLT"
          ],
          [
           "MEX"
          ],
          [
           "MAR"
          ],
          [
           "NLD"
          ],
          [
           "NZL"
          ],
          [
           "NOR"
          ],
          [
           "POL"
          ],
          [
           "PRT"
          ],
          [
           "ROU"
          ],
          [
           "RUS"
          ],
          [
           "SRB"
          ],
          [
           "SGP"
          ],
          [
           "SVN"
          ],
          [
           "ESP"
          ],
          [
           "SWE"
          ],
          [
           "CHE"
          ],
          [
           "TUR"
          ],
          [
           "USA"
          ]
         ],
         "hovertemplate": "Masculinity Index=%{x}<br>GDP per Capita in USD=%{y}<br>country=%{customdata[0]}<extra></extra>",
         "legendgroup": "",
         "marker": {
          "color": "#636efa",
          "symbol": "circle"
         },
         "mode": "markers",
         "name": "",
         "orientation": "v",
         "showlegend": false,
         "type": "scatter",
         "x": [
          56,
          61,
          79,
          54,
          49,
          40,
          52,
          28,
          66,
          64,
          21,
          40,
          57,
          16,
          30,
          26,
          43,
          66,
          66,
          57,
          57,
          88,
          56,
          46,
          68,
          47,
          70,
          95,
          39,
          9,
          19,
          50,
          47,
          69,
          53,
          14,
          58,
          8,
          64,
          31,
          42,
          36,
          43,
          48,
          19,
          42,
          5,
          70,
          45,
          62
         ],
         "xaxis": "x",
         "y": [
          20131,
          47761,
          47936,
          43672,
          15669,
          16647,
          44298,
          22295,
          11837,
          12799,
          15542,
          22087,
          30828,
          46742,
          27418,
          41492,
          39528,
          44993,
          40232,
          25986,
          53691,
          24556,
          5177,
          10188,
          47882,
          34339,
          36267,
          39436,
          34244,
          22637,
          26721,
          100561,
          32287,
          17461,
          7182,
          49242,
          36084,
          66956,
          24272,
          27936,
          19777,
          26073,
          14624,
          83004,
          29979,
          32452,
          46312,
          62225,
          22373,
          53241
         ],
         "yaxis": "y"
        },
        {
         "hovertemplate": "<b>OLS trendline</b><br>GDP per Capita in USD = -1.20105 * Masculinity Index + 34158.4<br>R<sup>2</sup>=0.000002<br><br>Masculinity Index=%{x}<br>GDP per Capita in USD=%{y} <b>(trend)</b><extra></extra>",
         "legendgroup": "",
         "marker": {
          "color": "#636efa",
          "symbol": "circle"
         },
         "mode": "lines",
         "name": "",
         "showlegend": false,
         "type": "scatter",
         "x": [
          5,
          8,
          9,
          14,
          16,
          19,
          19,
          21,
          26,
          28,
          30,
          31,
          36,
          39,
          40,
          40,
          42,
          42,
          43,
          43,
          45,
          46,
          47,
          47,
          48,
          49,
          50,
          52,
          53,
          54,
          56,
          56,
          57,
          57,
          57,
          58,
          61,
          62,
          64,
          64,
          66,
          66,
          66,
          68,
          69,
          70,
          70,
          79,
          88,
          95
         ],
         "xaxis": "x",
         "y": [
          34152.38871928775,
          34148.785556679,
          34147.584502476086,
          34141.579231461496,
          34139.17712305566,
          34135.573960446905,
          34135.573960446905,
          34133.17185204107,
          34127.16658102648,
          34124.76447262065,
          34122.362364214816,
          34121.1613100119,
          34115.15603899731,
          34111.55287638855,
          34110.351822185636,
          34110.351822185636,
          34107.9497137798,
          34107.9497137798,
          34106.748659576886,
          34106.748659576886,
          34104.34655117105,
          34103.14549696813,
          34101.94444276521,
          34101.94444276521,
          34100.743388562296,
          34099.54233435938,
          34098.34128015646,
          34095.93917175063,
          34094.738117547706,
          34093.53706334479,
          34091.134954938956,
          34091.134954938956,
          34089.93390073604,
          34089.93390073604,
          34089.93390073604,
          34088.73284653312,
          34085.129683924366,
          34083.92862972145,
          34081.526521315616,
          34081.526521315616,
          34079.12441290978,
          34079.12441290978,
          34079.12441290978,
          34076.72230450394,
          34075.521250301026,
          34074.32019609811,
          34074.32019609811,
          34063.51070827185,
          34052.7012204456,
          34044.29384102517
         ],
         "yaxis": "y"
        }
       ],
       "layout": {
        "legend": {
         "tracegroupgap": 0
        },
        "template": {
         "data": {
          "bar": [
           {
            "error_x": {
             "color": "#2a3f5f"
            },
            "error_y": {
             "color": "#2a3f5f"
            },
            "marker": {
             "line": {
              "color": "#E5ECF6",
              "width": 0.5
             },
             "pattern": {
              "fillmode": "overlay",
              "size": 10,
              "solidity": 0.2
             }
            },
            "type": "bar"
           }
          ],
          "barpolar": [
           {
            "marker": {
             "line": {
              "color": "#E5ECF6",
              "width": 0.5
             },
             "pattern": {
              "fillmode": "overlay",
              "size": 10,
              "solidity": 0.2
             }
            },
            "type": "barpolar"
           }
          ],
          "carpet": [
           {
            "aaxis": {
             "endlinecolor": "#2a3f5f",
             "gridcolor": "white",
             "linecolor": "white",
             "minorgridcolor": "white",
             "startlinecolor": "#2a3f5f"
            },
            "baxis": {
             "endlinecolor": "#2a3f5f",
             "gridcolor": "white",
             "linecolor": "white",
             "minorgridcolor": "white",
             "startlinecolor": "#2a3f5f"
            },
            "type": "carpet"
           }
          ],
          "choropleth": [
           {
            "colorbar": {
             "outlinewidth": 0,
             "ticks": ""
            },
            "type": "choropleth"
           }
          ],
          "contour": [
           {
            "colorbar": {
             "outlinewidth": 0,
             "ticks": ""
            },
            "colorscale": [
             [
              0,
              "#0d0887"
             ],
             [
              0.1111111111111111,
              "#46039f"
             ],
             [
              0.2222222222222222,
              "#7201a8"
             ],
             [
              0.3333333333333333,
              "#9c179e"
             ],
             [
              0.4444444444444444,
              "#bd3786"
             ],
             [
              0.5555555555555556,
              "#d8576b"
             ],
             [
              0.6666666666666666,
              "#ed7953"
             ],
             [
              0.7777777777777778,
              "#fb9f3a"
             ],
             [
              0.8888888888888888,
              "#fdca26"
             ],
             [
              1,
              "#f0f921"
             ]
            ],
            "type": "contour"
           }
          ],
          "contourcarpet": [
           {
            "colorbar": {
             "outlinewidth": 0,
             "ticks": ""
            },
            "type": "contourcarpet"
           }
          ],
          "heatmap": [
           {
            "colorbar": {
             "outlinewidth": 0,
             "ticks": ""
            },
            "colorscale": [
             [
              0,
              "#0d0887"
             ],
             [
              0.1111111111111111,
              "#46039f"
             ],
             [
              0.2222222222222222,
              "#7201a8"
             ],
             [
              0.3333333333333333,
              "#9c179e"
             ],
             [
              0.4444444444444444,
              "#bd3786"
             ],
             [
              0.5555555555555556,
              "#d8576b"
             ],
             [
              0.6666666666666666,
              "#ed7953"
             ],
             [
              0.7777777777777778,
              "#fb9f3a"
             ],
             [
              0.8888888888888888,
              "#fdca26"
             ],
             [
              1,
              "#f0f921"
             ]
            ],
            "type": "heatmap"
           }
          ],
          "heatmapgl": [
           {
            "colorbar": {
             "outlinewidth": 0,
             "ticks": ""
            },
            "colorscale": [
             [
              0,
              "#0d0887"
             ],
             [
              0.1111111111111111,
              "#46039f"
             ],
             [
              0.2222222222222222,
              "#7201a8"
             ],
             [
              0.3333333333333333,
              "#9c179e"
             ],
             [
              0.4444444444444444,
              "#bd3786"
             ],
             [
              0.5555555555555556,
              "#d8576b"
             ],
             [
              0.6666666666666666,
              "#ed7953"
             ],
             [
              0.7777777777777778,
              "#fb9f3a"
             ],
             [
              0.8888888888888888,
              "#fdca26"
             ],
             [
              1,
              "#f0f921"
             ]
            ],
            "type": "heatmapgl"
           }
          ],
          "histogram": [
           {
            "marker": {
             "pattern": {
              "fillmode": "overlay",
              "size": 10,
              "solidity": 0.2
             }
            },
            "type": "histogram"
           }
          ],
          "histogram2d": [
           {
            "colorbar": {
             "outlinewidth": 0,
             "ticks": ""
            },
            "colorscale": [
             [
              0,
              "#0d0887"
             ],
             [
              0.1111111111111111,
              "#46039f"
             ],
             [
              0.2222222222222222,
              "#7201a8"
             ],
             [
              0.3333333333333333,
              "#9c179e"
             ],
             [
              0.4444444444444444,
              "#bd3786"
             ],
             [
              0.5555555555555556,
              "#d8576b"
             ],
             [
              0.6666666666666666,
              "#ed7953"
             ],
             [
              0.7777777777777778,
              "#fb9f3a"
             ],
             [
              0.8888888888888888,
              "#fdca26"
             ],
             [
              1,
              "#f0f921"
             ]
            ],
            "type": "histogram2d"
           }
          ],
          "histogram2dcontour": [
           {
            "colorbar": {
             "outlinewidth": 0,
             "ticks": ""
            },
            "colorscale": [
             [
              0,
              "#0d0887"
             ],
             [
              0.1111111111111111,
              "#46039f"
             ],
             [
              0.2222222222222222,
              "#7201a8"
             ],
             [
              0.3333333333333333,
              "#9c179e"
             ],
             [
              0.4444444444444444,
              "#bd3786"
             ],
             [
              0.5555555555555556,
              "#d8576b"
             ],
             [
              0.6666666666666666,
              "#ed7953"
             ],
             [
              0.7777777777777778,
              "#fb9f3a"
             ],
             [
              0.8888888888888888,
              "#fdca26"
             ],
             [
              1,
              "#f0f921"
             ]
            ],
            "type": "histogram2dcontour"
           }
          ],
          "mesh3d": [
           {
            "colorbar": {
             "outlinewidth": 0,
             "ticks": ""
            },
            "type": "mesh3d"
           }
          ],
          "parcoords": [
           {
            "line": {
             "colorbar": {
              "outlinewidth": 0,
              "ticks": ""
             }
            },
            "type": "parcoords"
           }
          ],
          "pie": [
           {
            "automargin": true,
            "type": "pie"
           }
          ],
          "scatter": [
           {
            "marker": {
             "colorbar": {
              "outlinewidth": 0,
              "ticks": ""
             }
            },
            "type": "scatter"
           }
          ],
          "scatter3d": [
           {
            "line": {
             "colorbar": {
              "outlinewidth": 0,
              "ticks": ""
             }
            },
            "marker": {
             "colorbar": {
              "outlinewidth": 0,
              "ticks": ""
             }
            },
            "type": "scatter3d"
           }
          ],
          "scattercarpet": [
           {
            "marker": {
             "colorbar": {
              "outlinewidth": 0,
              "ticks": ""
             }
            },
            "type": "scattercarpet"
           }
          ],
          "scattergeo": [
           {
            "marker": {
             "colorbar": {
              "outlinewidth": 0,
              "ticks": ""
             }
            },
            "type": "scattergeo"
           }
          ],
          "scattergl": [
           {
            "marker": {
             "colorbar": {
              "outlinewidth": 0,
              "ticks": ""
             }
            },
            "type": "scattergl"
           }
          ],
          "scattermapbox": [
           {
            "marker": {
             "colorbar": {
              "outlinewidth": 0,
              "ticks": ""
             }
            },
            "type": "scattermapbox"
           }
          ],
          "scatterpolar": [
           {
            "marker": {
             "colorbar": {
              "outlinewidth": 0,
              "ticks": ""
             }
            },
            "type": "scatterpolar"
           }
          ],
          "scatterpolargl": [
           {
            "marker": {
             "colorbar": {
              "outlinewidth": 0,
              "ticks": ""
             }
            },
            "type": "scatterpolargl"
           }
          ],
          "scatterternary": [
           {
            "marker": {
             "colorbar": {
              "outlinewidth": 0,
              "ticks": ""
             }
            },
            "type": "scatterternary"
           }
          ],
          "surface": [
           {
            "colorbar": {
             "outlinewidth": 0,
             "ticks": ""
            },
            "colorscale": [
             [
              0,
              "#0d0887"
             ],
             [
              0.1111111111111111,
              "#46039f"
             ],
             [
              0.2222222222222222,
              "#7201a8"
             ],
             [
              0.3333333333333333,
              "#9c179e"
             ],
             [
              0.4444444444444444,
              "#bd3786"
             ],
             [
              0.5555555555555556,
              "#d8576b"
             ],
             [
              0.6666666666666666,
              "#ed7953"
             ],
             [
              0.7777777777777778,
              "#fb9f3a"
             ],
             [
              0.8888888888888888,
              "#fdca26"
             ],
             [
              1,
              "#f0f921"
             ]
            ],
            "type": "surface"
           }
          ],
          "table": [
           {
            "cells": {
             "fill": {
              "color": "#EBF0F8"
             },
             "line": {
              "color": "white"
             }
            },
            "header": {
             "fill": {
              "color": "#C8D4E3"
             },
             "line": {
              "color": "white"
             }
            },
            "type": "table"
           }
          ]
         },
         "layout": {
          "annotationdefaults": {
           "arrowcolor": "#2a3f5f",
           "arrowhead": 0,
           "arrowwidth": 1
          },
          "autotypenumbers": "strict",
          "coloraxis": {
           "colorbar": {
            "outlinewidth": 0,
            "ticks": ""
           }
          },
          "colorscale": {
           "diverging": [
            [
             0,
             "#8e0152"
            ],
            [
             0.1,
             "#c51b7d"
            ],
            [
             0.2,
             "#de77ae"
            ],
            [
             0.3,
             "#f1b6da"
            ],
            [
             0.4,
             "#fde0ef"
            ],
            [
             0.5,
             "#f7f7f7"
            ],
            [
             0.6,
             "#e6f5d0"
            ],
            [
             0.7,
             "#b8e186"
            ],
            [
             0.8,
             "#7fbc41"
            ],
            [
             0.9,
             "#4d9221"
            ],
            [
             1,
             "#276419"
            ]
           ],
           "sequential": [
            [
             0,
             "#0d0887"
            ],
            [
             0.1111111111111111,
             "#46039f"
            ],
            [
             0.2222222222222222,
             "#7201a8"
            ],
            [
             0.3333333333333333,
             "#9c179e"
            ],
            [
             0.4444444444444444,
             "#bd3786"
            ],
            [
             0.5555555555555556,
             "#d8576b"
            ],
            [
             0.6666666666666666,
             "#ed7953"
            ],
            [
             0.7777777777777778,
             "#fb9f3a"
            ],
            [
             0.8888888888888888,
             "#fdca26"
            ],
            [
             1,
             "#f0f921"
            ]
           ],
           "sequentialminus": [
            [
             0,
             "#0d0887"
            ],
            [
             0.1111111111111111,
             "#46039f"
            ],
            [
             0.2222222222222222,
             "#7201a8"
            ],
            [
             0.3333333333333333,
             "#9c179e"
            ],
            [
             0.4444444444444444,
             "#bd3786"
            ],
            [
             0.5555555555555556,
             "#d8576b"
            ],
            [
             0.6666666666666666,
             "#ed7953"
            ],
            [
             0.7777777777777778,
             "#fb9f3a"
            ],
            [
             0.8888888888888888,
             "#fdca26"
            ],
            [
             1,
             "#f0f921"
            ]
           ]
          },
          "colorway": [
           "#636efa",
           "#EF553B",
           "#00cc96",
           "#ab63fa",
           "#FFA15A",
           "#19d3f3",
           "#FF6692",
           "#B6E880",
           "#FF97FF",
           "#FECB52"
          ],
          "font": {
           "color": "#2a3f5f"
          },
          "geo": {
           "bgcolor": "white",
           "lakecolor": "white",
           "landcolor": "#E5ECF6",
           "showlakes": true,
           "showland": true,
           "subunitcolor": "white"
          },
          "hoverlabel": {
           "align": "left"
          },
          "hovermode": "closest",
          "mapbox": {
           "style": "light"
          },
          "paper_bgcolor": "white",
          "plot_bgcolor": "#E5ECF6",
          "polar": {
           "angularaxis": {
            "gridcolor": "white",
            "linecolor": "white",
            "ticks": ""
           },
           "bgcolor": "#E5ECF6",
           "radialaxis": {
            "gridcolor": "white",
            "linecolor": "white",
            "ticks": ""
           }
          },
          "scene": {
           "xaxis": {
            "backgroundcolor": "#E5ECF6",
            "gridcolor": "white",
            "gridwidth": 2,
            "linecolor": "white",
            "showbackground": true,
            "ticks": "",
            "zerolinecolor": "white"
           },
           "yaxis": {
            "backgroundcolor": "#E5ECF6",
            "gridcolor": "white",
            "gridwidth": 2,
            "linecolor": "white",
            "showbackground": true,
            "ticks": "",
            "zerolinecolor": "white"
           },
           "zaxis": {
            "backgroundcolor": "#E5ECF6",
            "gridcolor": "white",
            "gridwidth": 2,
            "linecolor": "white",
            "showbackground": true,
            "ticks": "",
            "zerolinecolor": "white"
           }
          },
          "shapedefaults": {
           "line": {
            "color": "#2a3f5f"
           }
          },
          "ternary": {
           "aaxis": {
            "gridcolor": "white",
            "linecolor": "white",
            "ticks": ""
           },
           "baxis": {
            "gridcolor": "white",
            "linecolor": "white",
            "ticks": ""
           },
           "bgcolor": "#E5ECF6",
           "caxis": {
            "gridcolor": "white",
            "linecolor": "white",
            "ticks": ""
           }
          },
          "title": {
           "x": 0.05
          },
          "xaxis": {
           "automargin": true,
           "gridcolor": "white",
           "linecolor": "white",
           "ticks": "",
           "title": {
            "standoff": 15
           },
           "zerolinecolor": "white",
           "zerolinewidth": 2
          },
          "yaxis": {
           "automargin": true,
           "gridcolor": "white",
           "linecolor": "white",
           "ticks": "",
           "title": {
            "standoff": 15
           },
           "zerolinecolor": "white",
           "zerolinewidth": 2
          }
         }
        },
        "title": {
         "text": "mas graph"
        },
        "xaxis": {
         "anchor": "y",
         "domain": [
          0,
          1
         ],
         "title": {
          "text": "Masculinity Index"
         }
        },
        "yaxis": {
         "anchor": "x",
         "domain": [
          0,
          1
         ],
         "title": {
          "text": "GDP per Capita in USD"
         }
        }
       }
      }
     },
     "metadata": {},
     "output_type": "display_data"
    }
   ],
   "source": [
    "graphdimen(\"mas\")"
   ]
  },
  {
   "cell_type": "code",
   "execution_count": null,
   "id": "fe54e000",
   "metadata": {},
   "outputs": [],
   "source": []
  },
  {
   "cell_type": "code",
   "execution_count": 17,
   "id": "8ab7c161",
   "metadata": {},
   "outputs": [],
   "source": [
    " #plt.title(kind+\" Versus Per Capita GDP\")\n",
    "    #plt.ylabel(\"Per Capita GDP in USD\")\n",
    "    #plt.xlabel(kind+\" score\")\n",
    "    #plt.scatter(x,y)\n",
    "    #coef = np.polyfit(x,y,1)\n",
    "    #poly1d_fn = np.poly1d(coef) \n",
    "    #plt.plot(x,poly1d_fn(x),'--k')\n",
    "    #html_str = mpld3.fig_to_html(fig)\n",
    "    #Html_file= open(dim+\".html\",\"w\")\n",
    "    #Html_file.write(html_str)\n",
    "    #Html_file.close()\n",
    "    #plt.tight_layout()\n",
    "    #print(wheref)\n",
    "    #plt.show()\n",
    "    #fig=px.scatter(x=x,y=y,trendline=\"ols\")\n",
    "    #plt.plot(x,poly1d_fn(x),'--k')\n",
    "    #fig.show()"
   ]
  },
  {
   "cell_type": "code",
   "execution_count": null,
   "id": "cfec7452",
   "metadata": {},
   "outputs": [],
   "source": []
  }
 ],
 "metadata": {
  "kernelspec": {
   "display_name": "base",
   "language": "python",
   "name": "python3"
  },
  "language_info": {
   "codemirror_mode": {
    "name": "ipython",
    "version": 3
   },
   "file_extension": ".py",
   "mimetype": "text/x-python",
   "name": "python",
   "nbconvert_exporter": "python",
   "pygments_lexer": "ipython3",
   "version": "3.9.12"
  },
  "vscode": {
   "interpreter": {
    "hash": "e69f9a694f3c37c486d7184c931fc9ac2efa408be7dd53d65a0a85079c6b3a7f"
   }
  }
 },
 "nbformat": 4,
 "nbformat_minor": 5
}
